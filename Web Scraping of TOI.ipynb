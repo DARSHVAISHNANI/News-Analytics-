{
 "cells": [
  {
   "cell_type": "code",
   "execution_count": 4,
   "id": "bd9fbd61-446d-44bb-9d58-70d1007c0f1e",
   "metadata": {},
   "outputs": [],
   "source": [
    "from urllib.request import Request, urlopen\n",
    "from bs4 import BeautifulSoup\n",
    "import requests\n",
    "import pandas as pd\n",
    "import json\n",
    "from datetime import datetime"
   ]
  },
  {
   "cell_type": "code",
   "execution_count": 5,
   "id": "f6c9be5e-d92f-40fc-8b92-b1681b5ae2c2",
   "metadata": {},
   "outputs": [],
   "source": [
    "# root = \"https://www.google.com/\"\n",
    "link = \"https://timesofindia.indiatimes.com/india/batenge-to-katenge-yogi-adityanath-calls-for-unity-cites-bangladesh-turmoil-to-warn-against-divisive-forces/articleshow/112811196.cms\""
   ]
  },
  {
   "cell_type": "markdown",
   "id": "d008d628-3529-43c4-b0ce-c666efc62144",
   "metadata": {},
   "source": [
    "Integration File"
   ]
  },
  {
   "cell_type": "code",
   "execution_count": 6,
   "id": "4e211a71-e27e-46f4-8138-c559c63b4948",
   "metadata": {},
   "outputs": [
    {
     "name": "stdout",
     "output_type": "stream",
     "text": [
      "Sentences have been saved to C:\\Users\\darsh\\Desktop\\Main Documents Folder\\ADANI-MSBC HACKATHON\\Times of India Extraction\\MC_News_112811196.cms_20240829_181548.json.\n"
     ]
    }
   ],
   "source": [
    "# Function to split text into 40-word chunks\n",
    "def split_into_chunks(text, chunk_size=40):\n",
    "    words = text.split()\n",
    "    return [' '.join(words[i:i + chunk_size]) for i in range(0, len(words), chunk_size)]\n",
    "\n",
    "# Function to filter paragraphs with at least 15 words\n",
    "def filter_paragraphs(text):\n",
    "    paragraphs = text.split('\\n')\n",
    "    return '\\n'.join([para for para in paragraphs if len(para.split()) >= 15])\n",
    "\n",
    "# Link extraction Function\n",
    "link_segment = link.split(\"/\")[-1]\n",
    "\n",
    "# Take the first two words from the last segment of the link\n",
    "file_name_prefix = \"-\".join(link_segment.split('-')[:2])\n",
    "\n",
    "# Create a timestamp for the filename\n",
    "timestamp = datetime.now().strftime(\"%Y%m%d_%H%M%S\")\n",
    "\n",
    "# Automatically name the JSON file with the link segment and timestamp\n",
    "json_filename = f\"MC_News_{file_name_prefix}_{timestamp}.json\"\n",
    "json_filepath = f\"C:\\\\Users\\\\darsh\\\\Desktop\\\\Main Documents Folder\\\\ADANI-MSBC HACKATHON\\\\Times of India Extraction\\\\{json_filename}\"\n",
    "\n",
    "# Replace with the actual URL\n",
    "\n",
    "# Create a request object to handle the webpage\n",
    "req = Request(link, headers={'User-Agent': 'Mozilla/5.0'})\n",
    "webpage = urlopen(req).read()\n",
    "\n",
    "# Parse the HTML content with BeautifulSoup\n",
    "soup = BeautifulSoup(webpage, 'html5lib')\n",
    "\n",
    "# List to store extracted paragraphs as dictionaries\n",
    "extracted_paragraphs = []\n",
    "\n",
    "# Find the relevant sections containing news items\n",
    "for item in soup.find_all('div', attrs={'class': '_s30J clearfix'}):\n",
    "    cleaned_text = item.get_text(separator=\"\\n\").strip()\n",
    "    # Split the cleaned text into 40-word chunks\n",
    "    for chunk in split_into_chunks(cleaned_text):\n",
    "        # Filter the paragraphs with at least 15 words\n",
    "        filtered_text = filter_paragraphs(chunk.strip())\n",
    "        if filtered_text:  # Ensure the text isn't empty after filtering\n",
    "            extracted_paragraphs.append({\"text\": filtered_text})\n",
    "\n",
    "# Write the filtered sentences to the JSON file\n",
    "with open(json_filepath, 'w') as outfile:\n",
    "    json.dump(extracted_paragraphs, outfile, indent=4)\n",
    "\n",
    "# Print or confirm success\n",
    "print(f\"Sentences have been saved to {json_filepath}.\")"
   ]
  },
  {
   "cell_type": "code",
   "execution_count": null,
   "id": "7dd68926-3867-4b2e-a2cd-11fb85a07fba",
   "metadata": {},
   "outputs": [],
   "source": []
  }
 ],
 "metadata": {
  "kernelspec": {
   "display_name": "Python 3 (ipykernel)",
   "language": "python",
   "name": "python3"
  },
  "language_info": {
   "codemirror_mode": {
    "name": "ipython",
    "version": 3
   },
   "file_extension": ".py",
   "mimetype": "text/x-python",
   "name": "python",
   "nbconvert_exporter": "python",
   "pygments_lexer": "ipython3",
   "version": "3.12.4"
  }
 },
 "nbformat": 4,
 "nbformat_minor": 5
}
