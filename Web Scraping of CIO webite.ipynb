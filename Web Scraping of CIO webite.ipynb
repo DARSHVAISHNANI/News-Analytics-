{
 "cells": [
  {
   "cell_type": "code",
   "execution_count": 1,
   "id": "bd9fbd61-446d-44bb-9d58-70d1007c0f1e",
   "metadata": {},
   "outputs": [],
   "source": [
    "from urllib.request import Request, urlopen\n",
    "from bs4 import BeautifulSoup\n",
    "import requests\n",
    "import pandas as pd"
   ]
  },
  {
   "cell_type": "code",
   "execution_count": 2,
   "id": "f6c9be5e-d92f-40fc-8b92-b1681b5ae2c2",
   "metadata": {},
   "outputs": [],
   "source": [
    "link = \"https://www.cio.com/article/2518154/patagonia-lawsuit-raises-thorny-genai-data-issues.html\""
   ]
  },
  {
   "cell_type": "code",
   "execution_count": 3,
   "id": "801f21df-0142-4a9f-882a-f508c064e8d0",
   "metadata": {},
   "outputs": [
    {
     "name": "stdout",
     "output_type": "stream",
     "text": [
      "Sentences have been saved to C:\\Users\\darsh\\Desktop\\Main Documents Folder\\ADANI-MSBC HACKATHON\\CIO News Website Extraction\\CIO_News_patagonia-lawsuit_20240829_182446.json.\n"
     ]
    }
   ],
   "source": [
    "import requests\n",
    "from bs4 import BeautifulSoup\n",
    "from urllib.request import Request, urlopen\n",
    "import json\n",
    "from datetime import datetime\n",
    "\n",
    "def extract_and_save_news(link):\n",
    "    # Extract the last segment of the link\n",
    "    link_segment = link.split(\"/\")[-1]\n",
    "\n",
    "    # Take the first two words from the last segment of the link\n",
    "    file_name_prefix = \"-\".join(link_segment.split('-')[:2])\n",
    "\n",
    "    # Create a timestamp for the filename\n",
    "    timestamp = datetime.now().strftime(\"%Y%m%d_%H%M%S\")\n",
    "\n",
    "    # Automatically name the JSON file with the link segment and timestamp\n",
    "    json_filename = f\"CIO_News_{file_name_prefix}_{timestamp}.json\"\n",
    "    json_filepath = f\"C:\\\\Users\\\\darsh\\\\Desktop\\\\Main Documents Folder\\\\ADANI-MSBC HACKATHON\\\\CIO News Website Extraction\\\\{json_filename}\"\n",
    "\n",
    "    # Create a request object to handle the webpage\n",
    "    req = Request(link, headers={'User-Agent': 'Mozilla/5.0'})\n",
    "    webpage = urlopen(req).read()\n",
    "\n",
    "    # Parse the HTML content with BeautifulSoup\n",
    "    soup = BeautifulSoup(webpage, 'html5lib')\n",
    "\n",
    "    # List to store the extracted sentences in JSON format\n",
    "    filtered_sentences = []\n",
    "\n",
    "    # Find the relevant sections containing news items\n",
    "    for item in soup.find_all('div', attrs={'class': 'article-column__content'}):\n",
    "        for para in item.find_all('p'):\n",
    "            # Get the paragraph text\n",
    "            para_sentences = para.get_text().strip()\n",
    "            # Check if the sentence has 20 or more words\n",
    "            if len(para_sentences.split()) >= 15:\n",
    "                filtered_sentences.append({\"text\": para_sentences})\n",
    "\n",
    "    # Write the filtered sentences to the JSON file\n",
    "    with open(json_filepath, 'w') as outfile:\n",
    "        json.dump(filtered_sentences, outfile, indent=4)\n",
    "\n",
    "    # Print or confirm success\n",
    "    print(f\"Sentences have been saved to {json_filepath}.\")\n",
    "\n",
    "# Example usage\n",
    "extract_and_save_news(link)\n"
   ]
  },
  {
   "cell_type": "code",
   "execution_count": null,
   "id": "a398f1b0-f59b-4c6d-a5c1-be64078be435",
   "metadata": {},
   "outputs": [],
   "source": []
  }
 ],
 "metadata": {
  "kernelspec": {
   "display_name": "Python 3 (ipykernel)",
   "language": "python",
   "name": "python3"
  },
  "language_info": {
   "codemirror_mode": {
    "name": "ipython",
    "version": 3
   },
   "file_extension": ".py",
   "mimetype": "text/x-python",
   "name": "python",
   "nbconvert_exporter": "python",
   "pygments_lexer": "ipython3",
   "version": "3.12.4"
  }
 },
 "nbformat": 4,
 "nbformat_minor": 5
}
