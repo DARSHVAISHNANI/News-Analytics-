{
 "cells": [
  {
   "cell_type": "code",
   "execution_count": 1,
   "id": "bd9fbd61-446d-44bb-9d58-70d1007c0f1e",
   "metadata": {},
   "outputs": [],
   "source": [
    "from urllib.request import Request, urlopen\n",
    "from bs4 import BeautifulSoup\n",
    "import requests\n",
    "import pandas as pd\n",
    "import json\n",
    "from datetime import datetime"
   ]
  },
  {
   "cell_type": "code",
   "execution_count": 2,
   "id": "f6c9be5e-d92f-40fc-8b92-b1681b5ae2c2",
   "metadata": {},
   "outputs": [],
   "source": [
    "# root = \"https://www.google.com/\"\n",
    "link = \"https://english.gujaratsamachar.com/news/nri-news/over-24k-indian-diaspora-registers-for-pm-modis-event-in-us\""
   ]
  },
  {
   "cell_type": "markdown",
   "id": "59dd1225-20b9-4831-8cb6-74e7a8fc0470",
   "metadata": {},
   "source": [
    "Final Code Extracted"
   ]
  },
  {
   "cell_type": "code",
   "execution_count": 3,
   "id": "e37af128-280d-4a85-acbc-8f8114ac1448",
   "metadata": {},
   "outputs": [
    {
     "name": "stdout",
     "output_type": "stream",
     "text": [
      "Sentences have been saved to C:\\Users\\darsh\\Desktop\\Main Documents Folder\\ADANI-MSBC HACKATHON\\Gujarat Samachar Extraction\\GS_News_over-24k_20240829_180043.json.\n"
     ]
    }
   ],
   "source": [
    "link_segment = link.split(\"/\")[-1]\n",
    "\n",
    "# Take the first two words from the last segment of the link\n",
    "file_name_prefix = \"-\".join(link_segment.split('-')[:2])\n",
    "\n",
    "# Create a timestamp for the filename\n",
    "timestamp = datetime.now().strftime(\"%Y%m%d_%H%M%S\")\n",
    "\n",
    "# Automatically name the JSON file with the link segment and timestamp\n",
    "json_filename = f\"GS_News_{file_name_prefix}_{timestamp}.json\"\n",
    "json_filepath = f\"C:\\\\Users\\\\darsh\\\\Desktop\\\\Main Documents Folder\\\\ADANI-MSBC HACKATHON\\\\Gujarat Samachar Extraction\\\\{json_filename}\"\n",
    "\n",
    "req = Request(link, headers={'User-Agent': 'Mozilla/5.0'})\n",
    "webpage = urlopen(req).read()\n",
    "\n",
    "# Parse the HTML content with BeautifulSoup\n",
    "soup = BeautifulSoup(webpage, 'html5lib')\n",
    "\n",
    "# List to store the extracted sentences in JSON format\n",
    "filtered_sentences = []\n",
    "\n",
    "# Find the relevant sections containing news items\n",
    "for item in soup.find_all('div', attrs={'class': 'fontChange image-mrg-right'}):\n",
    "    for para in item.find_all('p'):\n",
    "        # Split the paragraph into sentences\n",
    "        para_sentences = para.get_text().strip()\n",
    "        # Check if the sentence has 20 or more words\n",
    "        if len(para_sentences.split()) >= 20:\n",
    "            filtered_sentences.append({\"text\": para_sentences})\n",
    "\n",
    "# Write the filtered sentences to the JSON file\n",
    "with open(json_filepath, 'w') as outfile:\n",
    "    json.dump(filtered_sentences, outfile, indent=4)\n",
    "\n",
    "# Print or confirm success\n",
    "print(f\"Sentences have been saved to {json_filepath}.\")\n"
   ]
  },
  {
   "cell_type": "code",
   "execution_count": null,
   "id": "848a0d14-f92b-4750-a93a-09b7900ddb82",
   "metadata": {},
   "outputs": [],
   "source": []
  }
 ],
 "metadata": {
  "kernelspec": {
   "display_name": "Python 3 (ipykernel)",
   "language": "python",
   "name": "python3"
  },
  "language_info": {
   "codemirror_mode": {
    "name": "ipython",
    "version": 3
   },
   "file_extension": ".py",
   "mimetype": "text/x-python",
   "name": "python",
   "nbconvert_exporter": "python",
   "pygments_lexer": "ipython3",
   "version": "3.9.19"
  }
 },
 "nbformat": 4,
 "nbformat_minor": 5
}
